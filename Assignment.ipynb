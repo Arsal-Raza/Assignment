{
 "cells": [
  {
   "cell_type": "markdown",
   "id": "a2c8df4b",
   "metadata": {},
   "source": [
    "# My Jupyter Notebook on IBM Watson Studio"
   ]
  },
  {
   "cell_type": "markdown",
   "id": "f597ffbd",
   "metadata": {},
   "source": [
    "**Arsal Raza**"
   ]
  },
  {
   "cell_type": "markdown",
   "id": "7079ae9b",
   "metadata": {},
   "source": [
    "I'm a student and I want to be Data Scientist in future."
   ]
  },
  {
   "cell_type": "markdown",
   "id": "6971ce0b",
   "metadata": {},
   "source": [
    "*I am interested in data science because it's an unexploited field, and I can make quite a living from it.*"
   ]
  },
  {
   "cell_type": "markdown",
   "id": "b15c8716",
   "metadata": {},
   "source": [
    "### I'm going to add two variable"
   ]
  },
  {
   "cell_type": "code",
   "execution_count": 1,
   "id": "6b0e549d",
   "metadata": {},
   "outputs": [
    {
     "name": "stdout",
     "output_type": "stream",
     "text": [
      "100\n"
     ]
    }
   ],
   "source": [
    "a = 3\n",
    "b = 97\n",
    "c = a+b\n",
    "print(c)"
   ]
  },
  {
   "cell_type": "markdown",
   "id": "01ab501b",
   "metadata": {},
   "source": [
    "\n",
    "Example of numbered list:\n",
    "--\n",
    "<ol>\n",
    "<li>This is first ordered list</li>\n",
    "<li>This is second ordered list</li>\n",
    "</ol>\n",
    "\n",
    "Example of bulleted list:\n",
    "--\n",
    "\n",
    "<ul>\n",
    "<li>This is first unordered list</li>\n",
    "<li>This is second unordered list</li>\n",
    "</ul>\n",
    "\n",
    "Table:\n",
    "--\n",
    "\n",
    "|FName | LName | Roll.No |\n",
    "|------|:------:|-------:|\n",
    "|Arsal | Raza | 01 |\n",
    "|Ali | Raza | 02 |\n",
    "|Aslam | Ch | 03 |"
   ]
  },
  {
   "cell_type": "code",
   "execution_count": null,
   "id": "097fe17d",
   "metadata": {},
   "outputs": [],
   "source": []
  }
 ],
 "metadata": {
  "kernelspec": {
   "display_name": "Python 3",
   "language": "python",
   "name": "python3"
  },
  "language_info": {
   "codemirror_mode": {
    "name": "ipython",
    "version": 3
   },
   "file_extension": ".py",
   "mimetype": "text/x-python",
   "name": "python",
   "nbconvert_exporter": "python",
   "pygments_lexer": "ipython3",
   "version": "3.8.8"
  }
 },
 "nbformat": 4,
 "nbformat_minor": 5
}
